{
 "cells": [
  {
   "cell_type": "code",
   "execution_count": 1,
   "id": "d1363bac",
   "metadata": {},
   "outputs": [],
   "source": [
    "import pandas as pd\n",
    "import numpy as np\n",
    "# from scipy import stats\n",
    "import sys, os, re\n",
    "import warnings\n",
    "# from tqdm import tqdm\n",
    "import copy as cp\n",
    "import pickle as pkl\n",
    "\n",
    "# from statsmodels.stats.outliers_influence import variance_inflation_factor\n",
    "\n",
    "from sklearn.preprocessing import StandardScaler\n",
    "from sklearn import metrics\n",
    "from sklearn.metrics import accuracy_score\n",
    "from sklearn.metrics import confusion_matrix, classification_report\n",
    "from sklearn.metrics import precision_recall_curve, auc, roc_auc_score, roc_curve, recall_score\n",
    "from sklearn.model_selection import train_test_split\n",
    "from sklearn.inspection import permutation_importance\n",
    "\n",
    "from sklearn.linear_model import LogisticRegression\n",
    "from sklearn.svm import SVC, LinearSVC\n",
    "from sklearn.ensemble import RandomForestClassifier\n",
    "from sklearn.tree import DecisionTreeClassifier\n",
    "from sklearn.naive_bayes import GaussianNB, MultinomialNB, BernoulliNB\n",
    "from sklearn.neighbors import KNeighborsClassifier\n",
    "from sklearn.decomposition import PCA\n",
    "from sklearn.manifold import TSNE\n",
    "from sklearn.model_selection import GridSearchCV, RandomizedSearchCV\n",
    "from xgboost import XGBClassifier\n",
    "# from catboost import CatBoostClassifier, Pool\n",
    "# from lightgbm import LGBMClassifier\n",
    "from imblearn.over_sampling import SMOTE\n",
    "from imblearn.under_sampling import RandomUnderSampler"
   ]
  },
  {
   "cell_type": "code",
   "execution_count": 2,
   "id": "eb526910",
   "metadata": {},
   "outputs": [],
   "source": [
    "from warnings import filterwarnings\n",
    "\n",
    "from sklearn.feature_selection import mutual_info_classif\n",
    "\n",
    "from matplotlib import pyplot as plt\n",
    "import seaborn as sns"
   ]
  },
  {
   "cell_type": "code",
   "execution_count": 3,
   "id": "0db8e85e",
   "metadata": {},
   "outputs": [],
   "source": [
    "filterwarnings('ignore')\n",
    "plt.style.use('dark_background')\n",
    "plt.axis('off')\n",
    "plt.grid(b=None)\n",
    "\n",
    "sns.color_palette('dark')\n",
    "%matplotlib inline"
   ]
  },
  {
   "cell_type": "markdown",
   "id": "993be14a",
   "metadata": {},
   "source": [
    "# Load Data"
   ]
  },
  {
   "cell_type": "code",
   "execution_count": 4,
   "id": "123729f7",
   "metadata": {},
   "outputs": [],
   "source": [
    "dftrain = pd.read_csv(r'C:\\Users\\AKASH\\Desktop\\Arya.AI Assignment\\training_set.csv')\n",
    "dftest = pd.read_csv(r'C:\\Users\\AKASH\\Desktop\\Arya.AI Assignment\\test_set.csv')"
   ]
  },
  {
   "cell_type": "code",
   "execution_count": 5,
   "id": "36bb0e93",
   "metadata": {},
   "outputs": [
    {
     "data": {
      "text/plain": [
       "((3910, 59), (691, 58))"
      ]
     },
     "execution_count": 5,
     "metadata": {},
     "output_type": "execute_result"
    }
   ],
   "source": [
    "dftrain.shape, dftest.shape"
   ]
  },
  {
   "cell_type": "code",
   "execution_count": 6,
   "id": "64d92aa2",
   "metadata": {},
   "outputs": [
    {
     "data": {
      "text/html": [
       "<div>\n",
       "<style scoped>\n",
       "    .dataframe tbody tr th:only-of-type {\n",
       "        vertical-align: middle;\n",
       "    }\n",
       "\n",
       "    .dataframe tbody tr th {\n",
       "        vertical-align: top;\n",
       "    }\n",
       "\n",
       "    .dataframe thead th {\n",
       "        text-align: right;\n",
       "    }\n",
       "</style>\n",
       "<table border=\"1\" class=\"dataframe\">\n",
       "  <thead>\n",
       "    <tr style=\"text-align: right;\">\n",
       "      <th></th>\n",
       "      <th>Unnamed: 0</th>\n",
       "      <th>X1</th>\n",
       "      <th>X2</th>\n",
       "      <th>X3</th>\n",
       "      <th>X4</th>\n",
       "      <th>X5</th>\n",
       "      <th>X6</th>\n",
       "      <th>X7</th>\n",
       "      <th>X8</th>\n",
       "      <th>X9</th>\n",
       "      <th>...</th>\n",
       "      <th>X49</th>\n",
       "      <th>X50</th>\n",
       "      <th>X51</th>\n",
       "      <th>X52</th>\n",
       "      <th>X53</th>\n",
       "      <th>X54</th>\n",
       "      <th>X55</th>\n",
       "      <th>X56</th>\n",
       "      <th>X57</th>\n",
       "      <th>Y</th>\n",
       "    </tr>\n",
       "  </thead>\n",
       "  <tbody>\n",
       "    <tr>\n",
       "      <th>0</th>\n",
       "      <td>0</td>\n",
       "      <td>0.00</td>\n",
       "      <td>0.00</td>\n",
       "      <td>4.34</td>\n",
       "      <td>0.00</td>\n",
       "      <td>0.00</td>\n",
       "      <td>0.00</td>\n",
       "      <td>0.00</td>\n",
       "      <td>0.00</td>\n",
       "      <td>0.0</td>\n",
       "      <td>...</td>\n",
       "      <td>0.0</td>\n",
       "      <td>0.000</td>\n",
       "      <td>0.0</td>\n",
       "      <td>1.342</td>\n",
       "      <td>0.000</td>\n",
       "      <td>0.000</td>\n",
       "      <td>1.200</td>\n",
       "      <td>2</td>\n",
       "      <td>12</td>\n",
       "      <td>0</td>\n",
       "    </tr>\n",
       "    <tr>\n",
       "      <th>1</th>\n",
       "      <td>1</td>\n",
       "      <td>0.00</td>\n",
       "      <td>0.56</td>\n",
       "      <td>0.56</td>\n",
       "      <td>0.00</td>\n",
       "      <td>1.12</td>\n",
       "      <td>0.56</td>\n",
       "      <td>2.25</td>\n",
       "      <td>0.00</td>\n",
       "      <td>0.0</td>\n",
       "      <td>...</td>\n",
       "      <td>0.0</td>\n",
       "      <td>0.083</td>\n",
       "      <td>0.0</td>\n",
       "      <td>0.503</td>\n",
       "      <td>0.000</td>\n",
       "      <td>0.083</td>\n",
       "      <td>16.304</td>\n",
       "      <td>148</td>\n",
       "      <td>375</td>\n",
       "      <td>1</td>\n",
       "    </tr>\n",
       "    <tr>\n",
       "      <th>2</th>\n",
       "      <td>2</td>\n",
       "      <td>0.00</td>\n",
       "      <td>0.00</td>\n",
       "      <td>0.00</td>\n",
       "      <td>0.00</td>\n",
       "      <td>0.00</td>\n",
       "      <td>0.00</td>\n",
       "      <td>0.00</td>\n",
       "      <td>0.00</td>\n",
       "      <td>0.0</td>\n",
       "      <td>...</td>\n",
       "      <td>0.0</td>\n",
       "      <td>0.000</td>\n",
       "      <td>0.0</td>\n",
       "      <td>0.000</td>\n",
       "      <td>0.000</td>\n",
       "      <td>0.000</td>\n",
       "      <td>1.000</td>\n",
       "      <td>1</td>\n",
       "      <td>5</td>\n",
       "      <td>0</td>\n",
       "    </tr>\n",
       "    <tr>\n",
       "      <th>3</th>\n",
       "      <td>3</td>\n",
       "      <td>0.64</td>\n",
       "      <td>0.00</td>\n",
       "      <td>0.64</td>\n",
       "      <td>0.00</td>\n",
       "      <td>1.93</td>\n",
       "      <td>0.00</td>\n",
       "      <td>0.00</td>\n",
       "      <td>0.00</td>\n",
       "      <td>0.0</td>\n",
       "      <td>...</td>\n",
       "      <td>0.0</td>\n",
       "      <td>0.000</td>\n",
       "      <td>0.0</td>\n",
       "      <td>0.462</td>\n",
       "      <td>0.370</td>\n",
       "      <td>0.000</td>\n",
       "      <td>2.440</td>\n",
       "      <td>22</td>\n",
       "      <td>122</td>\n",
       "      <td>1</td>\n",
       "    </tr>\n",
       "    <tr>\n",
       "      <th>4</th>\n",
       "      <td>4</td>\n",
       "      <td>0.58</td>\n",
       "      <td>0.00</td>\n",
       "      <td>0.00</td>\n",
       "      <td>35.46</td>\n",
       "      <td>0.58</td>\n",
       "      <td>0.00</td>\n",
       "      <td>0.58</td>\n",
       "      <td>0.58</td>\n",
       "      <td>0.0</td>\n",
       "      <td>...</td>\n",
       "      <td>0.0</td>\n",
       "      <td>0.000</td>\n",
       "      <td>0.0</td>\n",
       "      <td>0.239</td>\n",
       "      <td>0.239</td>\n",
       "      <td>0.000</td>\n",
       "      <td>3.338</td>\n",
       "      <td>123</td>\n",
       "      <td>207</td>\n",
       "      <td>1</td>\n",
       "    </tr>\n",
       "  </tbody>\n",
       "</table>\n",
       "<p>5 rows × 59 columns</p>\n",
       "</div>"
      ],
      "text/plain": [
       "   Unnamed: 0    X1    X2    X3     X4    X5    X6    X7    X8   X9  ...  X49  \\\n",
       "0           0  0.00  0.00  4.34   0.00  0.00  0.00  0.00  0.00  0.0  ...  0.0   \n",
       "1           1  0.00  0.56  0.56   0.00  1.12  0.56  2.25  0.00  0.0  ...  0.0   \n",
       "2           2  0.00  0.00  0.00   0.00  0.00  0.00  0.00  0.00  0.0  ...  0.0   \n",
       "3           3  0.64  0.00  0.64   0.00  1.93  0.00  0.00  0.00  0.0  ...  0.0   \n",
       "4           4  0.58  0.00  0.00  35.46  0.58  0.00  0.58  0.58  0.0  ...  0.0   \n",
       "\n",
       "     X50  X51    X52    X53    X54     X55  X56  X57  Y  \n",
       "0  0.000  0.0  1.342  0.000  0.000   1.200    2   12  0  \n",
       "1  0.083  0.0  0.503  0.000  0.083  16.304  148  375  1  \n",
       "2  0.000  0.0  0.000  0.000  0.000   1.000    1    5  0  \n",
       "3  0.000  0.0  0.462  0.370  0.000   2.440   22  122  1  \n",
       "4  0.000  0.0  0.239  0.239  0.000   3.338  123  207  1  \n",
       "\n",
       "[5 rows x 59 columns]"
      ]
     },
     "execution_count": 6,
     "metadata": {},
     "output_type": "execute_result"
    }
   ],
   "source": [
    "dftrain.head()"
   ]
  },
  {
   "cell_type": "code",
   "execution_count": 7,
   "id": "153975ec",
   "metadata": {
    "scrolled": true
   },
   "outputs": [
    {
     "data": {
      "text/plain": [
       "Unnamed: 0    0\n",
       "X1            0\n",
       "X2            0\n",
       "X3            0\n",
       "X4            0\n",
       "X5            0\n",
       "X6            0\n",
       "X7            0\n",
       "X8            0\n",
       "X9            0\n",
       "X10           0\n",
       "X11           0\n",
       "X12           0\n",
       "X13           0\n",
       "X14           0\n",
       "X15           0\n",
       "X16           0\n",
       "X17           0\n",
       "X18           0\n",
       "X19           0\n",
       "X20           0\n",
       "X21           0\n",
       "X22           0\n",
       "X23           0\n",
       "X24           0\n",
       "X25           0\n",
       "X26           0\n",
       "X27           0\n",
       "X28           0\n",
       "X29           0\n",
       "X30           0\n",
       "X31           0\n",
       "X32           0\n",
       "X33           0\n",
       "X34           0\n",
       "X35           0\n",
       "X36           0\n",
       "X37           0\n",
       "X38           0\n",
       "X39           0\n",
       "X40           0\n",
       "X41           0\n",
       "X42           0\n",
       "X43           0\n",
       "X44           0\n",
       "X45           0\n",
       "X46           0\n",
       "X47           0\n",
       "X48           0\n",
       "X49           0\n",
       "X50           0\n",
       "X51           0\n",
       "X52           0\n",
       "X53           0\n",
       "X54           0\n",
       "X55           0\n",
       "X56           0\n",
       "X57           0\n",
       "Y             0\n",
       "dtype: int64"
      ]
     },
     "execution_count": 7,
     "metadata": {},
     "output_type": "execute_result"
    }
   ],
   "source": [
    "dftrain.isna().sum()"
   ]
  },
  {
   "cell_type": "code",
   "execution_count": 9,
   "id": "f42a4fa7",
   "metadata": {},
   "outputs": [
    {
     "data": {
      "text/plain": [
       "0    2376\n",
       "1    1534\n",
       "Name: Y, dtype: int64"
      ]
     },
     "execution_count": 9,
     "metadata": {},
     "output_type": "execute_result"
    }
   ],
   "source": [
    "dftrain['Y'].value_counts()"
   ]
  },
  {
   "cell_type": "markdown",
   "id": "5709bf6f",
   "metadata": {},
   "source": [
    "# EDA"
   ]
  },
  {
   "cell_type": "code",
   "execution_count": 10,
   "id": "2e51d237",
   "metadata": {
    "scrolled": true
   },
   "outputs": [
    {
     "data": {
      "text/html": [
       "<div>\n",
       "<style scoped>\n",
       "    .dataframe tbody tr th:only-of-type {\n",
       "        vertical-align: middle;\n",
       "    }\n",
       "\n",
       "    .dataframe tbody tr th {\n",
       "        vertical-align: top;\n",
       "    }\n",
       "\n",
       "    .dataframe thead th {\n",
       "        text-align: right;\n",
       "    }\n",
       "</style>\n",
       "<table border=\"1\" class=\"dataframe\">\n",
       "  <thead>\n",
       "    <tr style=\"text-align: right;\">\n",
       "      <th></th>\n",
       "      <th>Unnamed: 0</th>\n",
       "      <th>X1</th>\n",
       "      <th>X2</th>\n",
       "      <th>X3</th>\n",
       "      <th>X4</th>\n",
       "      <th>X5</th>\n",
       "      <th>X6</th>\n",
       "      <th>X7</th>\n",
       "      <th>X8</th>\n",
       "      <th>X9</th>\n",
       "      <th>...</th>\n",
       "      <th>X49</th>\n",
       "      <th>X50</th>\n",
       "      <th>X51</th>\n",
       "      <th>X52</th>\n",
       "      <th>X53</th>\n",
       "      <th>X54</th>\n",
       "      <th>X55</th>\n",
       "      <th>X56</th>\n",
       "      <th>X57</th>\n",
       "      <th>Y</th>\n",
       "    </tr>\n",
       "  </thead>\n",
       "  <tbody>\n",
       "    <tr>\n",
       "      <th>count</th>\n",
       "      <td>3910.000000</td>\n",
       "      <td>3910.000000</td>\n",
       "      <td>3910.000000</td>\n",
       "      <td>3910.000000</td>\n",
       "      <td>3910.000000</td>\n",
       "      <td>3910.000000</td>\n",
       "      <td>3910.000000</td>\n",
       "      <td>3910.000000</td>\n",
       "      <td>3910.000000</td>\n",
       "      <td>3910.000000</td>\n",
       "      <td>...</td>\n",
       "      <td>3910.000000</td>\n",
       "      <td>3910.000000</td>\n",
       "      <td>3910.000000</td>\n",
       "      <td>3910.000000</td>\n",
       "      <td>3910.000000</td>\n",
       "      <td>3910.000000</td>\n",
       "      <td>3910.000000</td>\n",
       "      <td>3910.000000</td>\n",
       "      <td>3910.000000</td>\n",
       "      <td>3910.000000</td>\n",
       "    </tr>\n",
       "    <tr>\n",
       "      <th>mean</th>\n",
       "      <td>1954.500000</td>\n",
       "      <td>0.102990</td>\n",
       "      <td>0.206419</td>\n",
       "      <td>0.284419</td>\n",
       "      <td>0.062074</td>\n",
       "      <td>0.311309</td>\n",
       "      <td>0.095974</td>\n",
       "      <td>0.112320</td>\n",
       "      <td>0.106041</td>\n",
       "      <td>0.091146</td>\n",
       "      <td>...</td>\n",
       "      <td>0.037493</td>\n",
       "      <td>0.139252</td>\n",
       "      <td>0.015876</td>\n",
       "      <td>0.272971</td>\n",
       "      <td>0.077820</td>\n",
       "      <td>0.043828</td>\n",
       "      <td>5.047150</td>\n",
       "      <td>52.338107</td>\n",
       "      <td>283.059079</td>\n",
       "      <td>0.392327</td>\n",
       "    </tr>\n",
       "    <tr>\n",
       "      <th>std</th>\n",
       "      <td>1128.864105</td>\n",
       "      <td>0.296322</td>\n",
       "      <td>1.253828</td>\n",
       "      <td>0.504352</td>\n",
       "      <td>1.369361</td>\n",
       "      <td>0.656195</td>\n",
       "      <td>0.261455</td>\n",
       "      <td>0.389516</td>\n",
       "      <td>0.398694</td>\n",
       "      <td>0.271417</td>\n",
       "      <td>...</td>\n",
       "      <td>0.235054</td>\n",
       "      <td>0.276309</td>\n",
       "      <td>0.083600</td>\n",
       "      <td>0.858634</td>\n",
       "      <td>0.256991</td>\n",
       "      <td>0.452862</td>\n",
       "      <td>31.397035</td>\n",
       "      <td>204.445218</td>\n",
       "      <td>578.339858</td>\n",
       "      <td>0.488331</td>\n",
       "    </tr>\n",
       "    <tr>\n",
       "      <th>min</th>\n",
       "      <td>0.000000</td>\n",
       "      <td>0.000000</td>\n",
       "      <td>0.000000</td>\n",
       "      <td>0.000000</td>\n",
       "      <td>0.000000</td>\n",
       "      <td>0.000000</td>\n",
       "      <td>0.000000</td>\n",
       "      <td>0.000000</td>\n",
       "      <td>0.000000</td>\n",
       "      <td>0.000000</td>\n",
       "      <td>...</td>\n",
       "      <td>0.000000</td>\n",
       "      <td>0.000000</td>\n",
       "      <td>0.000000</td>\n",
       "      <td>0.000000</td>\n",
       "      <td>0.000000</td>\n",
       "      <td>0.000000</td>\n",
       "      <td>1.000000</td>\n",
       "      <td>1.000000</td>\n",
       "      <td>1.000000</td>\n",
       "      <td>0.000000</td>\n",
       "    </tr>\n",
       "    <tr>\n",
       "      <th>25%</th>\n",
       "      <td>977.250000</td>\n",
       "      <td>0.000000</td>\n",
       "      <td>0.000000</td>\n",
       "      <td>0.000000</td>\n",
       "      <td>0.000000</td>\n",
       "      <td>0.000000</td>\n",
       "      <td>0.000000</td>\n",
       "      <td>0.000000</td>\n",
       "      <td>0.000000</td>\n",
       "      <td>0.000000</td>\n",
       "      <td>...</td>\n",
       "      <td>0.000000</td>\n",
       "      <td>0.000000</td>\n",
       "      <td>0.000000</td>\n",
       "      <td>0.000000</td>\n",
       "      <td>0.000000</td>\n",
       "      <td>0.000000</td>\n",
       "      <td>1.580750</td>\n",
       "      <td>6.000000</td>\n",
       "      <td>35.000000</td>\n",
       "      <td>0.000000</td>\n",
       "    </tr>\n",
       "    <tr>\n",
       "      <th>50%</th>\n",
       "      <td>1954.500000</td>\n",
       "      <td>0.000000</td>\n",
       "      <td>0.000000</td>\n",
       "      <td>0.000000</td>\n",
       "      <td>0.000000</td>\n",
       "      <td>0.000000</td>\n",
       "      <td>0.000000</td>\n",
       "      <td>0.000000</td>\n",
       "      <td>0.000000</td>\n",
       "      <td>0.000000</td>\n",
       "      <td>...</td>\n",
       "      <td>0.000000</td>\n",
       "      <td>0.066000</td>\n",
       "      <td>0.000000</td>\n",
       "      <td>0.000000</td>\n",
       "      <td>0.000000</td>\n",
       "      <td>0.000000</td>\n",
       "      <td>2.263500</td>\n",
       "      <td>15.000000</td>\n",
       "      <td>94.000000</td>\n",
       "      <td>0.000000</td>\n",
       "    </tr>\n",
       "    <tr>\n",
       "      <th>75%</th>\n",
       "      <td>2931.750000</td>\n",
       "      <td>0.000000</td>\n",
       "      <td>0.000000</td>\n",
       "      <td>0.430000</td>\n",
       "      <td>0.000000</td>\n",
       "      <td>0.387500</td>\n",
       "      <td>0.000000</td>\n",
       "      <td>0.000000</td>\n",
       "      <td>0.000000</td>\n",
       "      <td>0.000000</td>\n",
       "      <td>...</td>\n",
       "      <td>0.000000</td>\n",
       "      <td>0.188000</td>\n",
       "      <td>0.000000</td>\n",
       "      <td>0.317250</td>\n",
       "      <td>0.054000</td>\n",
       "      <td>0.000000</td>\n",
       "      <td>3.714000</td>\n",
       "      <td>43.000000</td>\n",
       "      <td>264.000000</td>\n",
       "      <td>1.000000</td>\n",
       "    </tr>\n",
       "    <tr>\n",
       "      <th>max</th>\n",
       "      <td>3909.000000</td>\n",
       "      <td>4.340000</td>\n",
       "      <td>14.280000</td>\n",
       "      <td>4.540000</td>\n",
       "      <td>42.810000</td>\n",
       "      <td>9.090000</td>\n",
       "      <td>3.570000</td>\n",
       "      <td>7.270000</td>\n",
       "      <td>11.110000</td>\n",
       "      <td>3.230000</td>\n",
       "      <td>...</td>\n",
       "      <td>4.385000</td>\n",
       "      <td>9.752000</td>\n",
       "      <td>2.777000</td>\n",
       "      <td>32.478000</td>\n",
       "      <td>6.003000</td>\n",
       "      <td>19.829000</td>\n",
       "      <td>1102.500000</td>\n",
       "      <td>9989.000000</td>\n",
       "      <td>10062.000000</td>\n",
       "      <td>1.000000</td>\n",
       "    </tr>\n",
       "  </tbody>\n",
       "</table>\n",
       "<p>8 rows × 59 columns</p>\n",
       "</div>"
      ],
      "text/plain": [
       "        Unnamed: 0           X1           X2           X3           X4  \\\n",
       "count  3910.000000  3910.000000  3910.000000  3910.000000  3910.000000   \n",
       "mean   1954.500000     0.102990     0.206419     0.284419     0.062074   \n",
       "std    1128.864105     0.296322     1.253828     0.504352     1.369361   \n",
       "min       0.000000     0.000000     0.000000     0.000000     0.000000   \n",
       "25%     977.250000     0.000000     0.000000     0.000000     0.000000   \n",
       "50%    1954.500000     0.000000     0.000000     0.000000     0.000000   \n",
       "75%    2931.750000     0.000000     0.000000     0.430000     0.000000   \n",
       "max    3909.000000     4.340000    14.280000     4.540000    42.810000   \n",
       "\n",
       "                X5           X6           X7           X8           X9  ...  \\\n",
       "count  3910.000000  3910.000000  3910.000000  3910.000000  3910.000000  ...   \n",
       "mean      0.311309     0.095974     0.112320     0.106041     0.091146  ...   \n",
       "std       0.656195     0.261455     0.389516     0.398694     0.271417  ...   \n",
       "min       0.000000     0.000000     0.000000     0.000000     0.000000  ...   \n",
       "25%       0.000000     0.000000     0.000000     0.000000     0.000000  ...   \n",
       "50%       0.000000     0.000000     0.000000     0.000000     0.000000  ...   \n",
       "75%       0.387500     0.000000     0.000000     0.000000     0.000000  ...   \n",
       "max       9.090000     3.570000     7.270000    11.110000     3.230000  ...   \n",
       "\n",
       "               X49          X50          X51          X52          X53  \\\n",
       "count  3910.000000  3910.000000  3910.000000  3910.000000  3910.000000   \n",
       "mean      0.037493     0.139252     0.015876     0.272971     0.077820   \n",
       "std       0.235054     0.276309     0.083600     0.858634     0.256991   \n",
       "min       0.000000     0.000000     0.000000     0.000000     0.000000   \n",
       "25%       0.000000     0.000000     0.000000     0.000000     0.000000   \n",
       "50%       0.000000     0.066000     0.000000     0.000000     0.000000   \n",
       "75%       0.000000     0.188000     0.000000     0.317250     0.054000   \n",
       "max       4.385000     9.752000     2.777000    32.478000     6.003000   \n",
       "\n",
       "               X54          X55          X56           X57            Y  \n",
       "count  3910.000000  3910.000000  3910.000000   3910.000000  3910.000000  \n",
       "mean      0.043828     5.047150    52.338107    283.059079     0.392327  \n",
       "std       0.452862    31.397035   204.445218    578.339858     0.488331  \n",
       "min       0.000000     1.000000     1.000000      1.000000     0.000000  \n",
       "25%       0.000000     1.580750     6.000000     35.000000     0.000000  \n",
       "50%       0.000000     2.263500    15.000000     94.000000     0.000000  \n",
       "75%       0.000000     3.714000    43.000000    264.000000     1.000000  \n",
       "max      19.829000  1102.500000  9989.000000  10062.000000     1.000000  \n",
       "\n",
       "[8 rows x 59 columns]"
      ]
     },
     "execution_count": 10,
     "metadata": {},
     "output_type": "execute_result"
    }
   ],
   "source": [
    "dftrain.describe()"
   ]
  },
  {
   "cell_type": "code",
   "execution_count": 11,
   "id": "2e09f2b6",
   "metadata": {},
   "outputs": [],
   "source": [
    "# rows = dftrain.shape[1]\n",
    "\n",
    "# fig, axs = plt.subplots(rows, 2, figsize=[15, 200])\n",
    "\n",
    "# for feature in range(1, rows):\n",
    "#     sns.distplot(dftrain[dftrain.columns[feature]], kde=True, hist=False, ax=axs[feature][0])\n",
    "#     sns.boxplot(data=dftrain, x=dftrain.columns[feature], y='Y', ax=axs[feature][1])\n",
    "#     sns.stripplot(data=dftrain, x=dftrain.columns[feature], y='Y', ax=axs[feature][1])"
   ]
  },
  {
   "cell_type": "markdown",
   "id": "787dc30d",
   "metadata": {},
   "source": [
    "# Feature Selection"
   ]
  },
  {
   "cell_type": "code",
   "execution_count": 12,
   "id": "d4cdc3d1",
   "metadata": {},
   "outputs": [],
   "source": [
    "## mututal information\n",
    "importance = mutual_info_classif(dftrain.drop(['Unnamed: 0', 'Y'], axis=1), dftrain['Y'])\n",
    "feat_importance = pd.Series(importance, index=dftrain.columns[1:-1])"
   ]
  },
  {
   "cell_type": "code",
   "execution_count": 13,
   "id": "2cbb8229",
   "metadata": {},
   "outputs": [
    {
     "data": {
      "image/png": "[encoded data removed]",
      "text/plain": [
       "<Figure size 720x1080 with 1 Axes>"
      ]
     },
     "metadata": {
      "needs_background": "dark"
     },
     "output_type": "display_data"
    }
   ],
   "source": [
    "feat_importance.sort_values().plot(kind='barh', color=sns.xkcd_rgb['greenish teal'], figsize=[10,15])\n",
    "plt.show()"
   ]
  },
  {
   "cell_type": "markdown",
   "id": "cd50c7b9",
   "metadata": {},
   "source": [
    "1.We have list of features ranked on the basis of mutual information with target variable.\n",
    "\n",
    "2.To choose a cut off for feature selection we can choose the point where curve flattens.\n",
    "\n",
    "3.Let's try training with all the varibles first followed by training on selected features"
   ]
  },
  {
   "cell_type": "code",
   "execution_count": 14,
   "id": "c5eab7c2",
   "metadata": {},
   "outputs": [],
   "source": [
    "feature_set = feat_importance[feat_importance > 0.05].index.to_list()"
   ]
  },
  {
   "cell_type": "code",
   "execution_count": 15,
   "id": "75f40a2a",
   "metadata": {},
   "outputs": [
    {
     "data": {
      "text/plain": [
       "28"
      ]
     },
     "execution_count": 15,
     "metadata": {},
     "output_type": "execute_result"
    }
   ],
   "source": [
    "len(feature_set)"
   ]
  },
  {
   "cell_type": "markdown",
   "id": "093509b8",
   "metadata": {},
   "source": [
    "# split data"
   ]
  },
  {
   "cell_type": "code",
   "execution_count": 16,
   "id": "1b45ec79",
   "metadata": {},
   "outputs": [],
   "source": [
    "Xtrain, Xcv, Ytrain, Ycv = train_test_split(dftrain.drop(['Unnamed: 0', 'Y'], axis=1), dftrain['Y'], test_size=0.2, random_state=100)"
   ]
  },
  {
   "cell_type": "markdown",
   "id": "4aa4cefa",
   "metadata": {},
   "source": [
    "# Scripts for model Performance"
   ]
  },
  {
   "cell_type": "code",
   "execution_count": 17,
   "id": "d848ef4e",
   "metadata": {},
   "outputs": [],
   "source": [
    "# Function to print model performance summary statistics\n",
    "\n",
    "def performance_summary(model, Xtrain, Xtest, Ytrain, Ytest):\n",
    "    \n",
    "    Ytrain_pred = model.predict(Xtrain)\n",
    "    Ytest_pred = model.predict(Xtest)\n",
    "\n",
    "    # model performance\n",
    "    # accuracy score\n",
    "    print('Training Accuracy:\\n', accuracy_score(Ytrain, Ytrain_pred))\n",
    "    print('\\n')\n",
    "    print('Test Accuracy:\\n', accuracy_score(Ytest, Ytest_pred))\n",
    "    print('\\n')\n",
    "    # classification report\n",
    "    print('Classification Report training:\\n', classification_report(Ytrain,Ytrain_pred))\n",
    "    print('\\n')\n",
    "    print('Classification Report test:\\n', classification_report(Ytest,Ytest_pred))\n",
    "    \n",
    "    return"
   ]
  },
  {
   "cell_type": "code",
   "execution_count": 18,
   "id": "13e57ef1",
   "metadata": {},
   "outputs": [],
   "source": [
    "# Function to plot Confusion matrix\n",
    "\n",
    "def plot_confusion_matrix(model, Xtrain, Xtest, Ytrain, Ytest):\n",
    "    \n",
    "    Ytrain_pred = model.predict(Xtrain)\n",
    "    Ytest_pred = model.predict(Xtest)\n",
    "\n",
    "    # confusion matrix\n",
    "    fig, axs = plt.subplots(1,2,\n",
    "                            figsize=[15,5])\n",
    "    axs = axs.flatten()\n",
    "    \n",
    "    axs[0].set_title('Training data')\n",
    "    # axs[0].set_xlabel('Predicted label')\n",
    "    # axs[0].set_ylabel('True label')\n",
    "    axs[1].set_title('Test data')\n",
    "    # axs[1].set_xlabel('Predicted label')\n",
    "    # axs[1].set_ylabel('True label')\n",
    "    \n",
    "    fig.text(0.27, 0.04, 'Predicted label', ha='center')\n",
    "    fig.text(0.70, 0.04, 'Predicted label', ha='center')\n",
    "    fig.text(0.04, 0.5, 'True label', va='center', rotation='vertical')\n",
    "    fig.text(0.5, 0.5, 'True label', va='center', rotation='vertical')\n",
    "    \n",
    "    sns.heatmap(confusion_matrix(Ytrain,Ytrain_pred),\n",
    "                    annot=True,\n",
    "                    xticklabels=['Rejected', 'Approved'],\n",
    "                    yticklabels=['Rejected', 'Approved'],\n",
    "                    fmt=\"d\",\n",
    "                    ax=axs[0])\n",
    "    \n",
    "    sns.heatmap(confusion_matrix(Ytest,Ytest_pred),\n",
    "                    annot=True,\n",
    "                    xticklabels=['Rejected', 'Approved'],\n",
    "                    yticklabels=['Rejected', 'Approved'],\n",
    "                    fmt=\"d\",\n",
    "                    ax=axs[1])\n",
    "    plt.show()\n",
    "    \n",
    "    return"
   ]
  },
  {
   "cell_type": "code",
   "execution_count": 19,
   "id": "0b04d1f7",
   "metadata": {},
   "outputs": [],
   "source": [
    "# Function to plot ROC\n",
    "\n",
    "def plot_roc(model, Xtrain, Xtest, Ytrain, Ytest):\n",
    "    # ROC curve and area under ROC curve\n",
    "\n",
    "    # get FPR and TPR for training and test data\n",
    "    Ytrain_pred_proba = model.predict_proba(Xtrain)\n",
    "    fpr_train, tpr_train, thresholds_train = roc_curve(Ytrain, Ytrain_pred_proba[:,1])\n",
    "    # tpr fpr are swapped \n",
    "    roc_auc_train = auc(fpr_train, tpr_train)\n",
    "    Ytest_pred_proba = model.predict_proba(Xtest)\n",
    "    fpr_test, tpr_test, thresholds_test = roc_curve(Ytest, Ytest_pred_proba[:,1])\n",
    "    # tpr fpr are swapped\n",
    "    roc_auc_test = auc(fpr_test, tpr_test)\n",
    "\n",
    "    # print area under roc curve\n",
    "    print ('AUC_ROC train:\\t', roc_auc_train)\n",
    "    print ('AUC_ROC test:\\t', roc_auc_test)\n",
    "\n",
    "    # plot auc roc\n",
    "    fig, axs = plt.subplots(1,2,\n",
    "                            figsize=[15,5],\n",
    "                            sharex=False,\n",
    "                            sharey=False)\n",
    "    \n",
    "    # training data\n",
    "    axs[0].set_title('Receiver Operating Characteristic training')\n",
    "    axs[0].plot(fpr_train,\n",
    "                tpr_train,\n",
    "                sns.xkcd_rgb['greenish cyan'],\n",
    "                label='AUC = %0.2f'% roc_auc_train)\n",
    "    axs[0].legend(loc='lower right')\n",
    "    \n",
    "    axs[0].plot([0,1],[0,1],\n",
    "                ls='--',\n",
    "                c=sns.xkcd_rgb['red pink'])\n",
    "    \n",
    "    axs[0].set_xlim([-0.01,1.01])\n",
    "    axs[0].set_ylim([-0.01,1.01])\n",
    "    axs[0].set_ylabel('True Positive Rate')\n",
    "    axs[0].set_xlabel('False Positive Rate')\n",
    "    \n",
    "    # test data\n",
    "    axs[1].set_title('Receiver Operating Characteristic testing')\n",
    "    axs[1].plot(fpr_test,\n",
    "                tpr_test,\n",
    "                sns.xkcd_rgb['greenish cyan'],\n",
    "                label='AUC = %0.2f'% roc_auc_test)\n",
    "    axs[1].legend(loc='lower right')\n",
    "    \n",
    "    axs[1].plot([0,1],[0,1],\n",
    "                ls='--',\n",
    "                c=sns.xkcd_rgb['red pink'])\n",
    "    \n",
    "    axs[1].set_xlim([0.0,1.0])\n",
    "    axs[1].set_ylim([0.0,1.0])\n",
    "    axs[1].set_ylabel('True Positive Rate')\n",
    "    axs[1].set_xlabel('False Positive Rate')\n",
    "\n",
    "    plt.show()\n",
    "    \n",
    "    return"
   ]
  },
  {
   "cell_type": "markdown",
   "id": "7d543680",
   "metadata": {},
   "source": [
    "# Random Forrest"
   ]
  },
  {
   "cell_type": "code",
   "execution_count": 20,
   "id": "49f08081",
   "metadata": {},
   "outputs": [
    {
     "name": "stdout",
     "output_type": "stream",
     "text": [
      "Training Accuracy:\n",
      " 0.9993606138107417\n",
      "\n",
      "\n",
      "Test Accuracy:\n",
      " 0.9552429667519181\n",
      "\n",
      "\n",
      "Classification Report training:\n",
      "               precision    recall  f1-score   support\n",
      "\n",
      "           0       1.00      1.00      1.00      1881\n",
      "           1       1.00      1.00      1.00      1247\n",
      "\n",
      "    accuracy                           1.00      3128\n",
      "   macro avg       1.00      1.00      1.00      3128\n",
      "weighted avg       1.00      1.00      1.00      3128\n",
      "\n",
      "\n",
      "\n",
      "Classification Report test:\n",
      "               precision    recall  f1-score   support\n",
      "\n",
      "           0       0.96      0.97      0.96       495\n",
      "           1       0.95      0.93      0.94       287\n",
      "\n",
      "    accuracy                           0.96       782\n",
      "   macro avg       0.95      0.95      0.95       782\n",
      "weighted avg       0.96      0.96      0.96       782\n",
      "\n"
     ]
    },
    {
     "data": {
      "image/png": "[encoded data removed]",
      "text/plain": [
       "<Figure size 1080x360 with 4 Axes>"
      ]
     },
     "metadata": {
      "needs_background": "dark"
     },
     "output_type": "display_data"
    },
    {
     "name": "stdout",
     "output_type": "stream",
     "text": [
      "AUC_ROC train:\t 0.9999991473422445\n",
      "AUC_ROC test:\t 0.9892830746489283\n"
     ]
    },
    {
     "data": {
      "image/png": "[encoded data removed]",
      "text/plain": [
       "<Figure size 1080x360 with 2 Axes>"
      ]
     },
     "metadata": {
      "needs_background": "dark"
     },
     "output_type": "display_data"
    }
   ],
   "source": [
    "rf_model = RandomForestClassifier()\n",
    "rf_model.fit(Xtrain, Ytrain)\n",
    "\n",
    "# performance summary\n",
    "performance_summary(rf_model, Xtrain, Xcv, Ytrain, Ycv)\n",
    "\n",
    "# confusion matrix\n",
    "plot_confusion_matrix(rf_model, Xtrain, Xcv, Ytrain, Ycv)\n",
    "\n",
    "# ROC plot\n",
    "plot_roc(rf_model, Xtrain, Xcv, Ytrain, Ycv)"
   ]
  },
  {
   "cell_type": "markdown",
   "id": "7f1eb7f8",
   "metadata": {},
   "source": [
    "# Permutaion importance"
   ]
  },
  {
   "cell_type": "code",
   "execution_count": 21,
   "id": "5a6b0737",
   "metadata": {},
   "outputs": [],
   "source": [
    "perm_importance = permutation_importance(rf_model, Xcv, Ycv)"
   ]
  },
  {
   "cell_type": "code",
   "execution_count": 22,
   "id": "37abe251",
   "metadata": {},
   "outputs": [],
   "source": [
    "rf_perm_sorted = pd.Series(perm_importance.importances_mean, index=Xcv.columns).sort_values()"
   ]
  },
  {
   "cell_type": "code",
   "execution_count": 23,
   "id": "77ad77cc",
   "metadata": {},
   "outputs": [
    {
     "data": {
      "image/png": "[encoded data removed]",
      "text/plain": [
       "<Figure size 720x1080 with 1 Axes>"
      ]
     },
     "metadata": {
      "needs_background": "dark"
     },
     "output_type": "display_data"
    }
   ],
   "source": [
    "rf_perm_sorted.plot(kind='barh', color=sns.xkcd_rgb['greenish teal'], figsize=[10,15])\n",
    "plt.show()"
   ]
  },
  {
   "cell_type": "code",
   "execution_count": 24,
   "id": "75548eae",
   "metadata": {},
   "outputs": [],
   "source": [
    "feature_set2 = rf_perm_sorted[rf_perm_sorted > 0].index.to_list()"
   ]
  },
  {
   "cell_type": "code",
   "execution_count": 25,
   "id": "85d6eeae",
   "metadata": {},
   "outputs": [
    {
     "data": {
      "text/plain": [
       "28"
      ]
     },
     "execution_count": 25,
     "metadata": {},
     "output_type": "execute_result"
    }
   ],
   "source": [
    "len(feature_set2)"
   ]
  },
  {
   "cell_type": "markdown",
   "id": "0d468e23",
   "metadata": {},
   "source": [
    "# Random Forest on selected features"
   ]
  },
  {
   "cell_type": "code",
   "execution_count": 26,
   "id": "df6c4719",
   "metadata": {},
   "outputs": [
    {
     "name": "stdout",
     "output_type": "stream",
     "text": [
      "Training Accuracy:\n",
      " 0.9990409207161125\n",
      "\n",
      "\n",
      "Test Accuracy:\n",
      " 0.9565217391304348\n",
      "\n",
      "\n",
      "Classification Report training:\n",
      "               precision    recall  f1-score   support\n",
      "\n",
      "           0       1.00      1.00      1.00      1881\n",
      "           1       1.00      1.00      1.00      1247\n",
      "\n",
      "    accuracy                           1.00      3128\n",
      "   macro avg       1.00      1.00      1.00      3128\n",
      "weighted avg       1.00      1.00      1.00      3128\n",
      "\n",
      "\n",
      "\n",
      "Classification Report test:\n",
      "               precision    recall  f1-score   support\n",
      "\n",
      "           0       0.96      0.97      0.97       495\n",
      "           1       0.95      0.93      0.94       287\n",
      "\n",
      "    accuracy                           0.96       782\n",
      "   macro avg       0.96      0.95      0.95       782\n",
      "weighted avg       0.96      0.96      0.96       782\n",
      "\n"
     ]
    },
    {
     "data": {
      "image/png": "[encoded data removed]",
      "text/plain": [
       "<Figure size 1080x360 with 4 Axes>"
      ]
     },
     "metadata": {
      "needs_background": "dark"
     },
     "output_type": "display_data"
    },
    {
     "name": "stdout",
     "output_type": "stream",
     "text": [
      "AUC_ROC train:\t 0.9999876364625446\n",
      "AUC_ROC test:\t 0.9859324956885933\n"
     ]
    },
    {
     "data": {
      "image/png": "[encoded data removed]",
      "text/plain": [
       "<Figure size 1080x360 with 2 Axes>"
      ]
     },
     "metadata": {
      "needs_background": "dark"
     },
     "output_type": "display_data"
    }
   ],
   "source": [
    "rf_model = RandomForestClassifier()\n",
    "rf_model.fit(Xtrain[feature_set], Ytrain)\n",
    "\n",
    "# performance summary\n",
    "performance_summary(rf_model, Xtrain[feature_set], Xcv[feature_set], Ytrain, Ycv)\n",
    "\n",
    "# confusion matrix\n",
    "plot_confusion_matrix(rf_model, Xtrain[feature_set], Xcv[feature_set], Ytrain, Ycv)\n",
    "\n",
    "# ROC plot\n",
    "plot_roc(rf_model, Xtrain[feature_set], Xcv[feature_set], Ytrain, Ycv)"
   ]
  },
  {
   "cell_type": "markdown",
   "id": "a9bea63e",
   "metadata": {},
   "source": [
    "# Permutaion importance"
   ]
  },
  {
   "cell_type": "code",
   "execution_count": 27,
   "id": "20335808",
   "metadata": {},
   "outputs": [],
   "source": [
    "perm_importance = permutation_importance(rf_model, Xcv[feature_set], Ycv)"
   ]
  },
  {
   "cell_type": "code",
   "execution_count": 28,
   "id": "648f982d",
   "metadata": {},
   "outputs": [],
   "source": [
    "rf_perm_sorted = pd.Series(perm_importance.importances_mean, index=feature_set).sort_values()"
   ]
  },
  {
   "cell_type": "code",
   "execution_count": 29,
   "id": "d5943a75",
   "metadata": {},
   "outputs": [
    {
     "data": {
      "image/png": "[encoded data removed]",
      "text/plain": [
       "<Figure size 720x1080 with 1 Axes>"
      ]
     },
     "metadata": {
      "needs_background": "dark"
     },
     "output_type": "display_data"
    }
   ],
   "source": [
    "rf_perm_sorted.plot(kind='barh', color=sns.xkcd_rgb['greenish teal'], figsize=[10,15])\n",
    "plt.show()"
   ]
  },
  {
   "cell_type": "markdown",
   "id": "4f30aa7c",
   "metadata": {},
   "source": [
    "# Random Forest on feature set 2"
   ]
  },
  {
   "cell_type": "code",
   "execution_count": 30,
   "id": "87ea8266",
   "metadata": {},
   "outputs": [
    {
     "name": "stdout",
     "output_type": "stream",
     "text": [
      "Training Accuracy:\n",
      " 0.9990409207161125\n",
      "\n",
      "\n",
      "Test Accuracy:\n",
      " 0.9552429667519181\n",
      "\n",
      "\n",
      "Classification Report training:\n",
      "               precision    recall  f1-score   support\n",
      "\n",
      "           0       1.00      1.00      1.00      1881\n",
      "           1       1.00      1.00      1.00      1247\n",
      "\n",
      "    accuracy                           1.00      3128\n",
      "   macro avg       1.00      1.00      1.00      3128\n",
      "weighted avg       1.00      1.00      1.00      3128\n",
      "\n",
      "\n",
      "\n",
      "Classification Report test:\n",
      "               precision    recall  f1-score   support\n",
      "\n",
      "           0       0.96      0.97      0.96       495\n",
      "           1       0.95      0.92      0.94       287\n",
      "\n",
      "    accuracy                           0.96       782\n",
      "   macro avg       0.95      0.95      0.95       782\n",
      "weighted avg       0.96      0.96      0.96       782\n",
      "\n"
     ]
    },
    {
     "data": {
      "image/png": "[encoded data removed]",
      "text/plain": [
       "<Figure size 1080x360 with 4 Axes>"
      ]
     },
     "metadata": {
      "needs_background": "dark"
     },
     "output_type": "display_data"
    },
    {
     "name": "stdout",
     "output_type": "stream",
     "text": [
      "AUC_ROC train:\t 0.9999848653248391\n",
      "AUC_ROC test:\t 0.9851511631999437\n"
     ]
    },
    {
     "data": {
      "image/png": "[encoded data removed]",
      "text/plain": [
       "<Figure size 1080x360 with 2 Axes>"
      ]
     },
     "metadata": {
      "needs_background": "dark"
     },
     "output_type": "display_data"
    }
   ],
   "source": [
    "rf_model = RandomForestClassifier()\n",
    "rf_model.fit(Xtrain[feature_set2], Ytrain)\n",
    "\n",
    "# performance summary\n",
    "performance_summary(rf_model, Xtrain[feature_set2], Xcv[feature_set2], Ytrain, Ycv)\n",
    "\n",
    "# confusion matrix\n",
    "plot_confusion_matrix(rf_model, Xtrain[feature_set2], Xcv[feature_set2], Ytrain, Ycv)\n",
    "\n",
    "# ROC plot\n",
    "plot_roc(rf_model, Xtrain[feature_set2], Xcv[feature_set2], Ytrain, Ycv)"
   ]
  },
  {
   "cell_type": "markdown",
   "id": "16c4f69e",
   "metadata": {},
   "source": [
    "# XGBoost"
   ]
  },
  {
   "cell_type": "code",
   "execution_count": 31,
   "id": "526e2b0c",
   "metadata": {},
   "outputs": [
    {
     "name": "stdout",
     "output_type": "stream",
     "text": [
      "[11:43:25] WARNING: C:/Users/Administrator/workspace/xgboost-win64_release_1.5.1/src/learner.cc:1115: Starting in XGBoost 1.3.0, the default evaluation metric used with the objective 'binary:logistic' was changed from 'error' to 'logloss'. Explicitly set eval_metric if you'd like to restore the old behavior.\n",
      "Training Accuracy:\n",
      " 0.9990409207161125\n",
      "\n",
      "\n",
      "Test Accuracy:\n",
      " 0.9552429667519181\n",
      "\n",
      "\n",
      "Classification Report training:\n",
      "               precision    recall  f1-score   support\n",
      "\n",
      "           0       1.00      1.00      1.00      1881\n",
      "           1       1.00      1.00      1.00      1247\n",
      "\n",
      "    accuracy                           1.00      3128\n",
      "   macro avg       1.00      1.00      1.00      3128\n",
      "weighted avg       1.00      1.00      1.00      3128\n",
      "\n",
      "\n",
      "\n",
      "Classification Report test:\n",
      "               precision    recall  f1-score   support\n",
      "\n",
      "           0       0.96      0.97      0.96       495\n",
      "           1       0.95      0.92      0.94       287\n",
      "\n",
      "    accuracy                           0.96       782\n",
      "   macro avg       0.95      0.95      0.95       782\n",
      "weighted avg       0.96      0.96      0.96       782\n",
      "\n"
     ]
    },
    {
     "data": {
      "image/png": "[encoded data removed]",
      "text/plain": [
       "<Figure size 1080x360 with 4 Axes>"
      ]
     },
     "metadata": {
      "needs_background": "dark"
     },
     "output_type": "display_data"
    },
    {
     "name": "stdout",
     "output_type": "stream",
     "text": [
      "AUC_ROC train:\t 0.9999848653248391\n",
      "AUC_ROC test:\t 0.9851511631999437\n"
     ]
    },
    {
     "data": {
      "image/png": "[encoded data removed]",
      "text/plain": [
       "<Figure size 1080x360 with 2 Axes>"
      ]
     },
     "metadata": {
      "needs_background": "dark"
     },
     "output_type": "display_data"
    }
   ],
   "source": [
    "xgb_model = XGBClassifier()\n",
    "xgb_model.fit(Xtrain[feature_set2], Ytrain)\n",
    "\n",
    "# performance summary\n",
    "performance_summary(rf_model, Xtrain[feature_set2], Xcv[feature_set2], Ytrain, Ycv)\n",
    "\n",
    "# confusion matrix\n",
    "plot_confusion_matrix(rf_model, Xtrain[feature_set2], Xcv[feature_set2], Ytrain, Ycv)\n",
    "\n",
    "# ROC plot\n",
    "plot_roc(rf_model, Xtrain[feature_set2], Xcv[feature_set2], Ytrain, Ycv)"
   ]
  },
  {
   "cell_type": "markdown",
   "id": "68e82127",
   "metadata": {},
   "source": [
    "# Predictions after feature selection"
   ]
  },
  {
   "cell_type": "code",
   "execution_count": 32,
   "id": "921a2b63",
   "metadata": {},
   "outputs": [
    {
     "data": {
      "text/html": [
       "<div>\n",
       "<style scoped>\n",
       "    .dataframe tbody tr th:only-of-type {\n",
       "        vertical-align: middle;\n",
       "    }\n",
       "\n",
       "    .dataframe tbody tr th {\n",
       "        vertical-align: top;\n",
       "    }\n",
       "\n",
       "    .dataframe thead th {\n",
       "        text-align: right;\n",
       "    }\n",
       "</style>\n",
       "<table border=\"1\" class=\"dataframe\">\n",
       "  <thead>\n",
       "    <tr style=\"text-align: right;\">\n",
       "      <th></th>\n",
       "      <th>Unnamed: 0</th>\n",
       "      <th>X1</th>\n",
       "      <th>X2</th>\n",
       "      <th>X3</th>\n",
       "      <th>X4</th>\n",
       "      <th>X5</th>\n",
       "      <th>X6</th>\n",
       "      <th>X7</th>\n",
       "      <th>X8</th>\n",
       "      <th>X9</th>\n",
       "      <th>...</th>\n",
       "      <th>X48</th>\n",
       "      <th>X49</th>\n",
       "      <th>X50</th>\n",
       "      <th>X51</th>\n",
       "      <th>X52</th>\n",
       "      <th>X53</th>\n",
       "      <th>X54</th>\n",
       "      <th>X55</th>\n",
       "      <th>X56</th>\n",
       "      <th>X57</th>\n",
       "    </tr>\n",
       "  </thead>\n",
       "  <tbody>\n",
       "    <tr>\n",
       "      <th>0</th>\n",
       "      <td>0</td>\n",
       "      <td>0.70</td>\n",
       "      <td>0.0</td>\n",
       "      <td>0.70</td>\n",
       "      <td>0.0</td>\n",
       "      <td>0.00</td>\n",
       "      <td>0.00</td>\n",
       "      <td>0.00</td>\n",
       "      <td>0.00</td>\n",
       "      <td>0.00</td>\n",
       "      <td>...</td>\n",
       "      <td>0.0</td>\n",
       "      <td>0.0</td>\n",
       "      <td>0.000</td>\n",
       "      <td>0.0</td>\n",
       "      <td>0.105</td>\n",
       "      <td>0.000</td>\n",
       "      <td>0.000</td>\n",
       "      <td>2.342</td>\n",
       "      <td>47</td>\n",
       "      <td>89</td>\n",
       "    </tr>\n",
       "    <tr>\n",
       "      <th>1</th>\n",
       "      <td>1</td>\n",
       "      <td>0.00</td>\n",
       "      <td>0.0</td>\n",
       "      <td>0.84</td>\n",
       "      <td>0.0</td>\n",
       "      <td>0.84</td>\n",
       "      <td>0.00</td>\n",
       "      <td>0.84</td>\n",
       "      <td>0.00</td>\n",
       "      <td>0.00</td>\n",
       "      <td>...</td>\n",
       "      <td>0.0</td>\n",
       "      <td>0.0</td>\n",
       "      <td>0.388</td>\n",
       "      <td>0.0</td>\n",
       "      <td>0.776</td>\n",
       "      <td>0.129</td>\n",
       "      <td>0.000</td>\n",
       "      <td>10.375</td>\n",
       "      <td>168</td>\n",
       "      <td>249</td>\n",
       "    </tr>\n",
       "    <tr>\n",
       "      <th>2</th>\n",
       "      <td>2</td>\n",
       "      <td>0.46</td>\n",
       "      <td>0.3</td>\n",
       "      <td>0.46</td>\n",
       "      <td>0.0</td>\n",
       "      <td>0.05</td>\n",
       "      <td>0.12</td>\n",
       "      <td>0.05</td>\n",
       "      <td>0.28</td>\n",
       "      <td>0.43</td>\n",
       "      <td>...</td>\n",
       "      <td>0.0</td>\n",
       "      <td>0.0</td>\n",
       "      <td>0.065</td>\n",
       "      <td>0.0</td>\n",
       "      <td>0.325</td>\n",
       "      <td>0.756</td>\n",
       "      <td>0.153</td>\n",
       "      <td>5.891</td>\n",
       "      <td>193</td>\n",
       "      <td>3040</td>\n",
       "    </tr>\n",
       "    <tr>\n",
       "      <th>3</th>\n",
       "      <td>3</td>\n",
       "      <td>0.10</td>\n",
       "      <td>0.2</td>\n",
       "      <td>1.01</td>\n",
       "      <td>0.0</td>\n",
       "      <td>0.80</td>\n",
       "      <td>0.80</td>\n",
       "      <td>0.50</td>\n",
       "      <td>0.00</td>\n",
       "      <td>0.80</td>\n",
       "      <td>...</td>\n",
       "      <td>0.0</td>\n",
       "      <td>0.0</td>\n",
       "      <td>0.110</td>\n",
       "      <td>0.0</td>\n",
       "      <td>0.490</td>\n",
       "      <td>0.158</td>\n",
       "      <td>0.015</td>\n",
       "      <td>8.550</td>\n",
       "      <td>669</td>\n",
       "      <td>1351</td>\n",
       "    </tr>\n",
       "    <tr>\n",
       "      <th>4</th>\n",
       "      <td>4</td>\n",
       "      <td>0.00</td>\n",
       "      <td>0.0</td>\n",
       "      <td>0.72</td>\n",
       "      <td>0.0</td>\n",
       "      <td>0.72</td>\n",
       "      <td>0.00</td>\n",
       "      <td>0.72</td>\n",
       "      <td>0.00</td>\n",
       "      <td>0.00</td>\n",
       "      <td>...</td>\n",
       "      <td>0.0</td>\n",
       "      <td>0.0</td>\n",
       "      <td>0.364</td>\n",
       "      <td>0.0</td>\n",
       "      <td>0.729</td>\n",
       "      <td>0.121</td>\n",
       "      <td>0.000</td>\n",
       "      <td>7.781</td>\n",
       "      <td>32</td>\n",
       "      <td>249</td>\n",
       "    </tr>\n",
       "  </tbody>\n",
       "</table>\n",
       "<p>5 rows × 58 columns</p>\n",
       "</div>"
      ],
      "text/plain": [
       "   Unnamed: 0    X1   X2    X3   X4    X5    X6    X7    X8    X9  ...  X48  \\\n",
       "0           0  0.70  0.0  0.70  0.0  0.00  0.00  0.00  0.00  0.00  ...  0.0   \n",
       "1           1  0.00  0.0  0.84  0.0  0.84  0.00  0.84  0.00  0.00  ...  0.0   \n",
       "2           2  0.46  0.3  0.46  0.0  0.05  0.12  0.05  0.28  0.43  ...  0.0   \n",
       "3           3  0.10  0.2  1.01  0.0  0.80  0.80  0.50  0.00  0.80  ...  0.0   \n",
       "4           4  0.00  0.0  0.72  0.0  0.72  0.00  0.72  0.00  0.00  ...  0.0   \n",
       "\n",
       "   X49    X50  X51    X52    X53    X54     X55  X56   X57  \n",
       "0  0.0  0.000  0.0  0.105  0.000  0.000   2.342   47    89  \n",
       "1  0.0  0.388  0.0  0.776  0.129  0.000  10.375  168   249  \n",
       "2  0.0  0.065  0.0  0.325  0.756  0.153   5.891  193  3040  \n",
       "3  0.0  0.110  0.0  0.490  0.158  0.015   8.550  669  1351  \n",
       "4  0.0  0.364  0.0  0.729  0.121  0.000   7.781   32   249  \n",
       "\n",
       "[5 rows x 58 columns]"
      ]
     },
     "execution_count": 32,
     "metadata": {},
     "output_type": "execute_result"
    }
   ],
   "source": [
    "dftest.head()"
   ]
  },
  {
   "cell_type": "code",
   "execution_count": 33,
   "id": "89212d33",
   "metadata": {},
   "outputs": [],
   "source": [
    "Xtest = dftest.drop('Unnamed: 0', axis=1)"
   ]
  },
  {
   "cell_type": "code",
   "execution_count": 34,
   "id": "7dd92908",
   "metadata": {},
   "outputs": [],
   "source": [
    "Ytest_pred = rf_model.predict(Xtest[feature_set2])"
   ]
  },
  {
   "cell_type": "code",
   "execution_count": 35,
   "id": "925a72e6",
   "metadata": {},
   "outputs": [],
   "source": [
    "submission = pd.DataFrame({'':dftest['Unnamed: 0'], 'Y':Ytest_pred})"
   ]
  },
  {
   "cell_type": "code",
   "execution_count": 38,
   "id": "d5b0e258",
   "metadata": {},
   "outputs": [],
   "source": [
    "submission.to_csv(r'C:\\Users\\AKASH\\Desktop\\Arya.AI Assignment\\submission.csv', index=False)"
   ]
  },
  {
   "cell_type": "code",
   "execution_count": null,
   "id": "c8a78586",
   "metadata": {},
   "outputs": [],
   "source": []
  }
 ],
 "metadata": {
  "kernelspec": {
   "display_name": "Python 3",
   "language": "python",
   "name": "python3"
  },
  "language_info": {
   "codemirror_mode": {
    "name": "ipython",
    "version": 3
   },
   "file_extension": ".py",
   "mimetype": "text/x-python",
   "name": "python",
   "nbconvert_exporter": "python",
   "pygments_lexer": "ipython3",
   "version": "3.8.8"
  }
 },
 "nbformat": 4,
 "nbformat_minor": 5
}
